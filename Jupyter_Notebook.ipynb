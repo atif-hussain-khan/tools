{
 "cells": [
  {
   "cell_type": "markdown",
   "metadata": {},
   "source": [
    "<center>\n",
    "    <img src=\"https://s3-api.us-geo.objectstorage.softlayer.net/cf-courses-data/CognitiveClass/Logos/organization_logo/organization_logo.png\" width=\"300\" alt=\"cognitiveclass.ai logo\"  />\n",
    "</center>\n"
   ]
  },
  {
   "cell_type": "markdown",
   "metadata": {},
   "source": [
    "#### Add your code below following the instructions given in the course\n"
   ]
  },
  {
   "cell_type": "markdown",
   "metadata": {},
   "source": [
    "# My Jupyter Notebook on IBM Watson Studio"
   ]
  },
  {
   "cell_type": "markdown",
   "metadata": {},
   "source": [
    "**Atif Khan**  \n",
    "Data Scientist"
   ]
  },
  {
   "cell_type": "markdown",
   "metadata": {},
   "source": [
    "*I am interested in Data Science because it is the career of the future*"
   ]
  },
  {
   "cell_type": "markdown",
   "metadata": {
    "tags": []
   },
   "source": [
    "### The code below will print my name in ASCII art"
   ]
  },
  {
   "cell_type": "code",
   "execution_count": 1,
   "metadata": {},
   "outputs": [
    {
     "name": "stdout",
     "output_type": "stream",
     "text": [
      "Requirement already satisfied: art in /home/jupyterlab/conda/envs/python/lib/python3.7/site-packages (5.6)\n"
     ]
    }
   ],
   "source": [
    "# run this line to install the art package\n",
    "!pip install art\n",
    "from art import text2art"
   ]
  },
  {
   "cell_type": "code",
   "execution_count": 3,
   "metadata": {},
   "outputs": [
    {
     "name": "stdout",
     "output_type": "stream",
     "text": [
      " .d888888    dP   oo .8888b    dP     dP dP                         \n",
      "d8'    88    88      88   \"    88   .d8' 88                         \n",
      "88aaaaa88a d8888P dP 88aaa     88aaa8P'  88d888b. .d8888b. 88d888b. \n",
      "88     88    88   88 88        88   `8b. 88'  `88 88'  `88 88'  `88 \n",
      "88     88    88   88 88        88     88 88    88 88.  .88 88    88 \n",
      "88     88    dP   dP dP        dP     dP dP    dP `88888P8 dP    dP \n",
      "                                                                    \n",
      "                                                                    \n",
      "\n"
     ]
    }
   ],
   "source": [
    "Name_Art=text2art(\"Atif Khan\",\"rand\") # random font mode\n",
    "print(Name_Art)\n",
    "\n",
    "# keep running this cell to display different styles"
   ]
  },
  {
   "cell_type": "markdown",
   "metadata": {},
   "source": [
    "#### Bulleted list\n",
    "* This\n",
    "* is\n",
    "* a\n",
    "* bulleted \n",
    "* list\n",
    "\n",
    "#### Hyperlink\n",
    "\n",
    "[this is a hyperlink to google](https://www.google.com)\n",
    "\n",
    "#### Horizontal rule\n",
    "\n",
    "---\n",
    "Can you see the line above? Well that is called a horizontal rule\n",
    "\n",
    "#### Images\n",
    "Here is a picture of a cute cat\n",
    "![A cute cat](https://images.unsplash.com/photo-1529778873920-4da4926a72c2?ixlib=rb-1.2.1&ixid=MnwxMjA3fDB8MHxwaG90by1wYWdlfHx8fGVufDB8fHx8&auto=format&fit=crop&w=736&q=80)\n"
   ]
  },
  {
   "cell_type": "code",
   "execution_count": null,
   "metadata": {},
   "outputs": [],
   "source": []
  }
 ],
 "metadata": {
  "kernelspec": {
   "display_name": "Python",
   "language": "python",
   "name": "conda-env-python-py"
  },
  "language_info": {
   "codemirror_mode": {
    "name": "ipython",
    "version": 3
   },
   "file_extension": ".py",
   "mimetype": "text/x-python",
   "name": "python",
   "nbconvert_exporter": "python",
   "pygments_lexer": "ipython3",
   "version": "3.7.12"
  }
 },
 "nbformat": 4,
 "nbformat_minor": 4
}
